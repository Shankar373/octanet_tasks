{
  "nbformat": 4,
  "nbformat_minor": 0,
  "metadata": {
    "colab": {
      "provenance": [],
      "gpuType": "T4",
      "authorship_tag": "ABX9TyMi8cW18Z0iwKPxZeTGe9aR",
      "include_colab_link": true
    },
    "kernelspec": {
      "name": "python3",
      "display_name": "Python 3"
    },
    "language_info": {
      "name": "python"
    },
    "accelerator": "GPU"
  },
  "cells": [
    {
      "cell_type": "markdown",
      "metadata": {
        "id": "view-in-github",
        "colab_type": "text"
      },
      "source": [
        "<a href=\"https://colab.research.google.com/github/Shankar373/octanet_tasks/blob/main/atm_simulation.ipynb\" target=\"_parent\"><img src=\"https://colab.research.google.com/assets/colab-badge.svg\" alt=\"Open In Colab\"/></a>"
      ]
    },
    {
      "cell_type": "code",
      "execution_count": null,
      "metadata": {
        "colab": {
          "base_uri": "https://localhost:8080/",
          "height": 0
        },
        "id": "MpAhD4qbbek2",
        "outputId": "d3536c8e-fa49-4b51-b3de-6cae9e397c4f"
      },
      "outputs": [
        {
          "output_type": "stream",
          "name": "stdout",
          "text": [
            "Please insert your CARD\n"
          ]
        }
      ],
      "source": [
        "'''\n",
        "ATM Machine Simulation:\n",
        "\n",
        "This program simulates basic ATM machine functions, including:\n",
        "1. Account balance inquiry\n",
        "2. Cash withdrawal\n",
        "3. Cash deposit\n",
        "4. Exit\n",
        "'''\n",
        "\n",
        "# Importing time module to simulate c\n",
        "import time\n",
        "print(\"Please insert your CARD\")\n",
        "time.sleep(5)\n",
        "\n",
        "password = 1234\n",
        "balance = 5000\n",
        "try:\n",
        "    pin = int(input(\"Enter your ATM PIN: \"))\n",
        "except ValueError:\n",
        "    print(\"Invalid input! Please enter a numeric PIN.\")\n",
        "    exit()\n",
        "\n",
        "if pin == password:\n",
        "    while True:\n",
        "        print(\"\"\"\n",
        "        Please choose from the following options:\n",
        "        1. Balance Inquiry\n",
        "        2. Cash Withdrawal\n",
        "        3. Cash Deposit\n",
        "        4. Exit\n",
        "        \"\"\")\n",
        "\n",
        "        try:\n",
        "            # Taking user choice\n",
        "            option = int(input(\"Please enter your choice: \"))\n",
        "        except ValueError:\n",
        "            print(\"Invalid choice! Please select a valid option.\")\n",
        "            continue\n",
        "\n",
        "        # Option 1: Balance Inquiry\n",
        "        if option == 1:\n",
        "            print(f\"Your current balance is: ₹{balance}\")\n",
        "\n",
        "        # Option 2: Cash Withdrawal\n",
        "        elif option == 2:\n",
        "            try:\n",
        "                withdraw_amount = int(input(\"Enter the amount to withdraw: \"))\n",
        "                if withdraw_amount > 0:\n",
        "                    if balance >= withdraw_amount:\n",
        "                        balance -= withdraw_amount\n",
        "                        print(f\"₹{withdraw_amount} has been successfully debited from your account.\")\n",
        "                        print(f\"Your updated balance is: ₹{balance}\")\n",
        "                    else:\n",
        "                        print(f\"Insufficient funds! Your current balance is ₹{balance}.\")\n",
        "                else:\n",
        "                    print(\"Invalid amount! Please enter a positive number.\")\n",
        "            except ValueError:\n",
        "                print(\"Invalid input! Please enter a valid numeric value.\")\n",
        "\n",
        "        # Option 3: Cash Deposit\n",
        "        elif option == 3:\n",
        "            try:\n",
        "                deposit_amount = int(input(\"Enter the amount to deposit: \"))\n",
        "                if deposit_amount > 0:\n",
        "                    balance += deposit_amount\n",
        "                    print(f\"₹{deposit_amount} has been successfully credited to your account.\")\n",
        "                    print(f\"Your updated balance is: ₹{balance}\")\n",
        "                else:\n",
        "                    print(\"Invalid amount! Please enter a positive number.\")\n",
        "            except ValueError:\n",
        "                print(\"Invalid input! Please enter a valid numeric value.\")\n",
        "\n",
        "        # Option 4: Exit\n",
        "        elif option == 4:\n",
        "            print(\"Thank you for using our ATM service. Have a great day!\")\n",
        "            break\n",
        "\n",
        "        else:\n",
        "            print(\"Invalid choice! Please select a valid option.\")\n",
        "else:\n",
        "    print(\"Wrong PIN! Please try again.\")\n"
      ]
    }
  ]
}